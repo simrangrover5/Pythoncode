{
 "cells": [
  {
   "cell_type": "code",
   "execution_count": 2,
   "metadata": {},
   "outputs": [
    {
     "name": "stdout",
     "output_type": "stream",
     "text": [
      "File have been successfully created\n"
     ]
    }
   ],
   "source": [
    "import json\n",
    "f = open(\"C:\\\\training\\\\file_handling\\\\file_create\",'w')\n",
    "bank =  {\n",
    "       'user' : ['Simran' , 'Rahul' , 'Ravi' ],\n",
    "        'accno' : [1001 , 1002 , 1003],\n",
    "        'password' : ['1234' , '5678' , '9876'],\n",
    "        'bal' : [1000.45 , 5000.00 , 5432.65] }\n",
    "json.dump(bank,f)\n",
    "f.close()\n",
    "print(\"File have been successfully created\")"
   ]
  },
  {
   "cell_type": "code",
   "execution_count": 3,
   "metadata": {},
   "outputs": [
    {
     "name": "stdout",
     "output_type": "stream",
     "text": [
      "{\"user\": [\"Simran\", \"Rahul\", \"Ravi\", \"chanchal\", \"simi\"], \"accno\": [1001, 1002, 1003, 1004, 1005], \"password\": [\"1234\", \"5678\", \"9876\", \"5678\", \"7890\"], \"bal\": [1000.45, 15000.0, 5432.65, \"200000\", \"300000\"]}\n"
     ]
    }
   ],
   "source": [
    "f =  open(\"C:\\\\training\\\\file_handling\\\\file_create\",'r')\n",
    "f.seek(0)\n",
    "s = f.read()\n",
    "print(s)\n",
    "f.close()"
   ]
  },
  {
   "cell_type": "code",
   "execution_count": null,
   "metadata": {
    "collapsed": true
   },
   "outputs": [],
   "source": []
  }
 ],
 "metadata": {
  "kernelspec": {
   "display_name": "Python 3",
   "language": "python",
   "name": "python3"
  },
  "language_info": {
   "codemirror_mode": {
    "name": "ipython",
    "version": 3
   },
   "file_extension": ".py",
   "mimetype": "text/x-python",
   "name": "python",
   "nbconvert_exporter": "python",
   "pygments_lexer": "ipython3",
   "version": "3.6.3"
  }
 },
 "nbformat": 4,
 "nbformat_minor": 2
}
