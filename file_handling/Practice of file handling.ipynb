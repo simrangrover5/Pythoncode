{
 "cells": [
  {
   "cell_type": "code",
   "execution_count": 6,
   "metadata": {},
   "outputs": [
    {
     "data": {
      "text/plain": [
       "21"
      ]
     },
     "execution_count": 6,
     "metadata": {},
     "output_type": "execute_result"
    }
   ],
   "source": [
    "# file handling\n",
    "f = open(\"C:\\\\Users\\\\Machine\\\\Desktop\\\\hello.txt\",'w+')\n",
    "f.write(\"Hi I am Simran Grover\")"
   ]
  },
  {
   "cell_type": "code",
   "execution_count": 7,
   "metadata": {},
   "outputs": [
    {
     "name": "stdout",
     "output_type": "stream",
     "text": [
      "\n"
     ]
    }
   ],
   "source": [
    "print(f.read())"
   ]
  },
  {
   "cell_type": "code",
   "execution_count": 8,
   "metadata": {},
   "outputs": [
    {
     "name": "stdout",
     "output_type": "stream",
     "text": [
      "Hi I am Simran Grover\n"
     ]
    }
   ],
   "source": [
    "f.seek(0)\n",
    "print(f.read())"
   ]
  },
  {
   "cell_type": "code",
   "execution_count": 10,
   "metadata": {},
   "outputs": [
    {
     "name": "stdout",
     "output_type": "stream",
     "text": [
      "Hi I am Simran Grover\n",
      "Hi I am Simran Grover\n",
      "Hi I am Simran Grover\n",
      "Hi I am Simran Grover\n",
      "Hi I am Simran Grover\n",
      "Hi I am Simran Grover\n",
      "Hi I am Simran Grover\n",
      "Hi I am Simran Grover\n",
      "Hi I am Simran Grover\n",
      "Hi I am Simran Grover\n"
     ]
    }
   ],
   "source": [
    "\n",
    "for var in range(0,10):\n",
    "    f.seek(0)\n",
    "    print(f.read())"
   ]
  },
  {
   "cell_type": "code",
   "execution_count": 17,
   "metadata": {},
   "outputs": [],
   "source": [
    "for var in range(0,10):\n",
    "    f.write(\"\\n\")\n",
    "    s=\"Hi I am Simran Grover\"\n",
    "    f.write(s)"
   ]
  },
  {
   "cell_type": "code",
   "execution_count": 20,
   "metadata": {},
   "outputs": [
    {
     "name": "stdout",
     "output_type": "stream",
     "text": [
      "Hi I am Simran GroverHi I am Simran GroverHi I am Simran GroverHi I am Simran GroverHi I am Simran GroverHi I am Simran GroverHi I am Simran GroverHi I am Simran GroverHi I am Simran GroverHi I am Simran GroverHi I am Simran Grover\n",
      "Hi I am Simran Grover\n",
      "Hi I am Simran Grover\n",
      "Hi I am Simran Grover\n",
      "Hi I am Simran Grover\n",
      "Hi I am Simran Grover\n",
      "Hi I am Simran Grover\n",
      "Hi I am Simran Grover\n",
      "Hi I am Simran Grover\n",
      "Hi I am Simran Grover\n",
      "Hi I am Simran Grover\n",
      "Hi I am Simran Grover\n",
      "Hi I am Simran Grover\n",
      "Hi I am Simran Grover\n",
      "Hi I am Simran Grover\n",
      "Hi I am Simran Grover\n",
      "Hi I am Simran Grover\n",
      "Hi I am Simran Grover\n",
      "Hi I am Simran Grover\n",
      "Hi I am Simran Grover\n",
      "Hi I am Simran GroverHi I am Simran GroverHi I am Simran GroverHi I am Simran GroverHi I am Simran GroverHi I am Simran GroverHi I am Simran GroverHi I am Simran GroverHi I am Simran GroverHi I am Simran GroverHi I am Simran GroverHi I am Simran GroverHi I am Simran GroverHi I am Simran GroverHi I am Simran GroverHi I am Simran GroverHi I am Simran GroverHi I am Simran GroverHi I am Simran GroverHi I am Simran GroverHi I am Simran Grover\n",
      "Hi I am Simran Grover\n",
      "Hi I am Simran Grover\n",
      "Hi I am Simran Grover\n",
      "Hi I am Simran Grover\n",
      "Hi I am Simran Grover\n",
      "Hi I am Simran Grover\n",
      "Hi I am Simran Grover\n",
      "Hi I am Simran Grover\n",
      "Hi I am Simran Grover\n",
      "Hi I am Simran Grover\n"
     ]
    }
   ],
   "source": [
    "f.seek(0)\n",
    "t = f.read()\n",
    "print(t)"
   ]
  },
  {
   "cell_type": "code",
   "execution_count": 21,
   "metadata": {
    "collapsed": true
   },
   "outputs": [],
   "source": [
    "f.close()"
   ]
  },
  {
   "cell_type": "code",
   "execution_count": 22,
   "metadata": {
    "collapsed": true
   },
   "outputs": [],
   "source": [
    "f = open(\"C:\\\\Users\\\\Machine\\\\Desktop\\\\hello.txt\",'r+')"
   ]
  },
  {
   "cell_type": "code",
   "execution_count": 24,
   "metadata": {},
   "outputs": [
    {
     "name": "stdout",
     "output_type": "stream",
     "text": [
      "\n",
      "Hi I am Simran Grover\n",
      "Hi I am Simran Grover\n",
      "Hi I am Simran Grover\n",
      "Hi I am Simran Grover\n",
      "Hi I am Simran Grover\n",
      "Hi I am Simran Grover\n",
      "Hi I am Simran Grover\n",
      "Hi I am Simran Grover\n",
      "Hi I am Simran Grover\n",
      "Hi I am Simran Grover\n",
      "\n",
      "\n"
     ]
    }
   ],
   "source": [
    "f.seek(0)\n",
    "print(f.read())"
   ]
  },
  {
   "cell_type": "code",
   "execution_count": 29,
   "metadata": {},
   "outputs": [
    {
     "name": "stdout",
     "output_type": "stream",
     "text": [
      "['', 'Hi I am Simran Grover', 'Hi I am Simran Grover', 'Hi I am Simran Grover', 'Hi I am Simran Grover', 'Hi I am Simran Grover', 'Hi I am Simran Grover', 'Hi I am Simran Grover', 'Hi I am Simran Grover', 'Hi I am Simran Grover', 'Hi I am Simran Grover', '', '']\n"
     ]
    }
   ],
   "source": [
    "f.seek(0)\n",
    "t = (f.read())\n",
    "l = t.split('\\n')\n",
    "print(l)"
   ]
  },
  {
   "cell_type": "code",
   "execution_count": 30,
   "metadata": {},
   "outputs": [
    {
     "name": "stdout",
     "output_type": "stream",
     "text": [
      "['', 'Hi I am Simran Grover', 'Hi I am Simran Grover', 'Hi I am Simran Grover', 'Hi I am Simran Grover', 'Hi I am Simran Grover', 'Welcome', 'Hi I am Simran Grover', 'Hi I am Simran Grover', 'Hi I am Simran Grover', 'Hi I am Simran Grover', 'Hi I am Simran Grover', '', '']\n"
     ]
    }
   ],
   "source": [
    "f.seek(0)\n",
    "l.insert(6,\"Welcome\")\n",
    "print(l)"
   ]
  },
  {
   "cell_type": "code",
   "execution_count": 33,
   "metadata": {},
   "outputs": [
    {
     "name": "stdout",
     "output_type": "stream",
     "text": [
      "\n",
      "Hi I am Simran Grover\n",
      "Hi I am Simran Grover\n",
      "Hi I am Simran Grover\n",
      "Hi I am Simran Grover\n",
      "Hi I am Simran Grover\n",
      "Welcome\n",
      "Hi I am Simran Grover\n",
      "Hi I am Simran Grover\n",
      "Hi I am Simran Grover\n",
      "Hi I am Simran Grover\n",
      "Hi I am Simran Grover\n",
      "\n",
      "\n"
     ]
    }
   ],
   "source": [
    "f.seek(0)\n",
    "t = '\\n'.join(l)\n",
    "print(t)"
   ]
  },
  {
   "cell_type": "code",
   "execution_count": 35,
   "metadata": {},
   "outputs": [
    {
     "name": "stdout",
     "output_type": "stream",
     "text": [
      "['1. ', '2. Hi I am Simran Grover', '3. Hi I am Simran Grover', '4. Hi I am Simran Grover', '5. Hi I am Simran Grover', '6. Hi I am Simran Grover', '7. Hi I am Simran Grover', '8. Hi I am Simran Grover', '9. Hi I am Simran Grover', '10. Hi I am Simran Grover', '11. Hi I am Simran Grover', '12. ', '13. ']\n"
     ]
    }
   ],
   "source": [
    "f.seek(0)\n",
    "c = 1\n",
    "l=[]\n",
    "t = f.read()\n",
    "t = t.split('\\n')\n",
    "for var in t:\n",
    "    var =str(c)+'. '+var\n",
    "    l.append(var)\n",
    "    c=c+1\n",
    "print(l)\n"
   ]
  },
  {
   "cell_type": "code",
   "execution_count": 36,
   "metadata": {},
   "outputs": [
    {
     "name": "stdout",
     "output_type": "stream",
     "text": [
      "1. \n",
      "2. Hi I am Simran Grover\n",
      "3. Hi I am Simran Grover\n",
      "4. Hi I am Simran Grover\n",
      "5. Hi I am Simran Grover\n",
      "6. Hi I am Simran Grover\n",
      "7. Hi I am Simran Grover\n",
      "8. Hi I am Simran Grover\n",
      "9. Hi I am Simran Grover\n",
      "10. Hi I am Simran Grover\n",
      "11. Hi I am Simran Grover\n",
      "12. \n",
      "13. \n"
     ]
    }
   ],
   "source": [
    "t = '\\n'.join(l)\n",
    "print(t)"
   ]
  },
  {
   "cell_type": "code",
   "execution_count": 37,
   "metadata": {},
   "outputs": [
    {
     "data": {
      "text/plain": [
       "234"
      ]
     },
     "execution_count": 37,
     "metadata": {},
     "output_type": "execute_result"
    }
   ],
   "source": [
    "f.tell()"
   ]
  },
  {
   "cell_type": "code",
   "execution_count": 39,
   "metadata": {},
   "outputs": [
    {
     "name": "stdout",
     "output_type": "stream",
     "text": [
      "['Hi', 'I', 'am', 'Simran', 'Grover', 'Hi', 'I', 'am', 'Simran', 'Grover', 'Hi', 'I', 'am', 'Simran', 'Grover', 'Hi', 'I', 'am', 'Simran', 'Grover', 'Hi', 'I', 'am', 'Simran', 'Grover', 'Hi', 'I', 'am', 'Simran', 'Grover', 'Hi', 'I', 'am', 'Simran', 'Grover', 'Hi', 'I', 'am', 'Simran', 'Grover', 'Hi', 'I', 'am', 'Simran', 'Grover', 'Hi', 'I', 'am', 'Simran', 'Grover']\n"
     ]
    }
   ],
   "source": [
    "f.seek(0)\n",
    "t = f.read()\n",
    "t = t.split()\n",
    "print(t)"
   ]
  },
  {
   "cell_type": "code",
   "execution_count": 40,
   "metadata": {},
   "outputs": [
    {
     "name": "stdout",
     "output_type": "stream",
     "text": [
      "50\n"
     ]
    }
   ],
   "source": [
    "print(len(t))"
   ]
  },
  {
   "cell_type": "code",
   "execution_count": 42,
   "metadata": {},
   "outputs": [
    {
     "name": "stdout",
     "output_type": "stream",
     "text": [
      "12\n"
     ]
    }
   ],
   "source": [
    "f.seek(0)\n",
    "s = f.read()\n",
    "print(s.count('\\n'))"
   ]
  },
  {
   "cell_type": "code",
   "execution_count": null,
   "metadata": {
    "collapsed": true
   },
   "outputs": [],
   "source": []
  }
 ],
 "metadata": {
  "kernelspec": {
   "display_name": "Python 3",
   "language": "python",
   "name": "python3"
  },
  "language_info": {
   "codemirror_mode": {
    "name": "ipython",
    "version": 3
   },
   "file_extension": ".py",
   "mimetype": "text/x-python",
   "name": "python",
   "nbconvert_exporter": "python",
   "pygments_lexer": "ipython3",
   "version": "3.6.3"
  }
 },
 "nbformat": 4,
 "nbformat_minor": 2
}
