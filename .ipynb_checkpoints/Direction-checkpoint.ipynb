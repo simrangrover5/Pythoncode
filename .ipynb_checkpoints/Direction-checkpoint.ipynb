{
 "cells": [
  {
   "cell_type": "code",
   "execution_count": 5,
   "metadata": {},
   "outputs": [
    {
     "name": "stdout",
     "output_type": "stream",
     "text": [
      "Enter the number of walks : 5\n",
      "Enter the direction in which you want to walk (E,W,N,S) : s\n",
      "Enter the direction in which you want to walk (E,W,N,S) : w\n",
      "Enter the direction in which you want to walk (E,W,N,S) : s\n",
      "Enter the direction in which you want to walk (E,W,N,S) : w\n",
      "Enter the direction in which you want to walk (E,W,N,S) : s\n",
      "You have walked 5 distance from home\n"
     ]
    }
   ],
   "source": [
    "s = int(input(\"Enter the number of walks : \"))\n",
    "x = 0\n",
    "y = 0\n",
    "for var in range(0,s):\n",
    "    d = input(\"Enter the direction in which you want to walk (E,W,N,S) : \").upper()\n",
    "    if (d=='E' or d == 'W' or d == 'N' or d == 'S'):\n",
    "        if d == 'E':\n",
    "            x = x + 1\n",
    "        elif d == 'W':\n",
    "            x = x - 1\n",
    "        elif d == 'N':\n",
    "            y = y + 1\n",
    "        elif d == 'S':\n",
    "            y = y - 1\n",
    "    else :\n",
    "        print(\"Enter the correct choice \")\n",
    "        break\n",
    "if x < 0:\n",
    "    x = abs(x)\n",
    "if y < 0 :\n",
    "    y = abs(y)\n",
    "print(\"You have walked {} distance from home\".format(x+y))\n",
    "        "
   ]
  },
  {
   "cell_type": "code",
   "execution_count": 9,
   "metadata": {},
   "outputs": [
    {
     "name": "stdout",
     "output_type": "stream",
     "text": [
      "1.East\n",
      "2.West\n",
      "3.North\n",
      "4.South\n",
      "You have walked 2 distance from home\n"
     ]
    }
   ],
   "source": [
    "from random import randrange\n",
    "com_guess = randrange(1,10)\n",
    "x = 0\n",
    "y = 0\n",
    "print(\"1.East\\n2.West\\n3.North\\n4.South\")\n",
    "for var in range(0,com_guess):\n",
    "    d = randrange(1,4)\n",
    "    if d == 1:\n",
    "        x = x + 1\n",
    "    elif d == 2:\n",
    "        x = x - 1\n",
    "    elif d == 3:\n",
    "        y = y + 1\n",
    "    elif d == 4:\n",
    "        y = y - 1\n",
    "    else :\n",
    "        print(\"Enter the correct choice \")\n",
    "        break\n",
    "if x < 0:\n",
    "    x = abs(x)\n",
    "if y < 0 :\n",
    "    y = abs(y)\n",
    "print(\"You have walked {} distance from home\".format(x+y))\n",
    "        "
   ]
  },
  {
   "cell_type": "code",
   "execution_count": null,
   "metadata": {
    "collapsed": true
   },
   "outputs": [],
   "source": []
  }
 ],
 "metadata": {
  "kernelspec": {
   "display_name": "Python 3",
   "language": "python",
   "name": "python3"
  },
  "language_info": {
   "codemirror_mode": {
    "name": "ipython",
    "version": 3
   },
   "file_extension": ".py",
   "mimetype": "text/x-python",
   "name": "python",
   "nbconvert_exporter": "python",
   "pygments_lexer": "ipython3",
   "version": "3.6.3"
  }
 },
 "nbformat": 4,
 "nbformat_minor": 2
}
