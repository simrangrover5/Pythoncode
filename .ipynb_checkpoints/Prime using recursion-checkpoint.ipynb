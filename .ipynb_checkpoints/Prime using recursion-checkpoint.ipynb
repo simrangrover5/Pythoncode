{
 "cells": [
  {
   "cell_type": "code",
   "execution_count": 8,
   "metadata": {},
   "outputs": [
    {
     "name": "stdout",
     "output_type": "stream",
     "text": [
      "Enter any number : 10\n",
      "Number is not prime\n"
     ]
    }
   ],
   "source": [
    "def prime(n,j = 2):\n",
    "    import math\n",
    "    sq=math.sqrt(n)\n",
    "    sq=int(sq)\n",
    "    if n<=1:\n",
    "        return False\n",
    "    if n==2:\n",
    "        return True\n",
    "    if n%j==0:\n",
    "        return False\n",
    "    elif (j==sq):\n",
    "        return True\n",
    "    else:\n",
    "        return(n,j+1)\n",
    "n = int(input(\"Enter any number : \"))\n",
    "if prime(n):\n",
    "    print(\"Number is prime\")\n",
    "else:\n",
    "    print(\"Number is not prime\")\n",
    "\n"
   ]
  },
  {
   "cell_type": "code",
   "execution_count": 12,
   "metadata": {},
   "outputs": [
    {
     "name": "stdout",
     "output_type": "stream",
     "text": [
      "Enter the number:5\n",
      "The number is not prime \n"
     ]
    }
   ],
   "source": [
    "prime = lambda n,j=2 : False if n%j == 0 else prime(n,j+1)\n",
    "n = int(input(\"Enter the number:\"))\n",
    "r = prime(n)\n",
    "if r == True:\n",
    "    print(\"The number is prime \")\n",
    "else :\n",
    "    print(\"The number is not prime \")"
   ]
  },
  {
   "cell_type": "code",
   "execution_count": 1,
   "metadata": {
    "collapsed": true
   },
   "outputs": [],
   "source": [
    "def check_prime(n,j=2):\n",
    "    import math\n",
    "    sq=math.sqrt(n)\n",
    "    sq=int(sq)\n",
    "    if n <=1:\n",
    "        return False\n",
    "    if n==2:\n",
    "        return True\n",
    "    while j<sq:\n",
    "        if n%j==0:\n",
    "            return False\n",
    "        j = j + 1\n",
    "    if j == sq:\n",
    "        return True \n",
    "        "
   ]
  },
  {
   "cell_type": "code",
   "execution_count": 2,
   "metadata": {
    "collapsed": true
   },
   "outputs": [],
   "source": [
    "def prime():\n",
    "    n = int(input(\"Enter any number : \"))\n",
    "    r = check_prime(n)\n",
    "    if r == True :\n",
    "        print(\"Prime\")\n",
    "    else:\n",
    "        print(\"Not prime \")\n",
    "    if (input(\"Enter yes to continue : \")):\n",
    "        prime()\n",
    "        "
   ]
  },
  {
   "cell_type": "code",
   "execution_count": 3,
   "metadata": {},
   "outputs": [
    {
     "name": "stdout",
     "output_type": "stream",
     "text": [
      "Enter any number : 5\n",
      "Prime\n",
      "Enter yes to continue : y\n",
      "Enter any number : 10\n",
      "Not prime \n",
      "Enter yes to continue : \n"
     ]
    }
   ],
   "source": [
    "prime()"
   ]
  },
  {
   "cell_type": "code",
   "execution_count": null,
   "metadata": {
    "collapsed": true
   },
   "outputs": [],
   "source": []
  }
 ],
 "metadata": {
  "kernelspec": {
   "display_name": "Python 3",
   "language": "python",
   "name": "python3"
  },
  "language_info": {
   "codemirror_mode": {
    "name": "ipython",
    "version": 3
   },
   "file_extension": ".py",
   "mimetype": "text/x-python",
   "name": "python",
   "nbconvert_exporter": "python",
   "pygments_lexer": "ipython3",
   "version": "3.6.3"
  }
 },
 "nbformat": 4,
 "nbformat_minor": 2
}
