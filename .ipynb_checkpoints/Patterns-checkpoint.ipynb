{
 "cells": [
  {
   "cell_type": "code",
   "execution_count": 3,
   "metadata": {},
   "outputs": [
    {
     "name": "stdout",
     "output_type": "stream",
     "text": [
      "* \n",
      "* * \n",
      "* * * \n",
      "* * * * \n",
      "* * * * * \n"
     ]
    }
   ],
   "source": [
    "for i in range(0,5):\n",
    "    for j in range(0,i+1):\n",
    "        print(\"*\",end=' ')\n",
    "    print()"
   ]
  },
  {
   "cell_type": "code",
   "execution_count": 4,
   "metadata": {},
   "outputs": [
    {
     "name": "stdout",
     "output_type": "stream",
     "text": [
      "* \n",
      "* * * \n",
      "* * * * * \n",
      "* * * * * * * \n",
      "* * * * * * * * * \n"
     ]
    }
   ],
   "source": [
    "#2\n",
    "k=1\n",
    "for i in range(0,5):\n",
    "    for j in range(0,k):\n",
    "        print(\"*\",end=' ')\n",
    "    k=k+2\n",
    "    print()"
   ]
  },
  {
   "cell_type": "code",
   "execution_count": 13,
   "metadata": {},
   "outputs": [
    {
     "name": "stdout",
     "output_type": "stream",
     "text": [
      "    * \n",
      "   * * \n",
      "  * * * \n",
      " * * * * \n",
      "* * * * * \n"
     ]
    }
   ],
   "source": [
    "#3\n",
    "k=4\n",
    "for i in range(0,5):\n",
    "    for n in range(0,k):\n",
    "        print(end=\" \")\n",
    "    k=k-1\n",
    "    for j in range(0,i+1):\n",
    "        print(\"*\",end=' ')\n",
    "    print()"
   ]
  },
  {
   "cell_type": "code",
   "execution_count": 15,
   "metadata": {},
   "outputs": [
    {
     "name": "stdout",
     "output_type": "stream",
     "text": [
      "1 \n",
      "2 3 \n",
      "4 5 6 \n",
      "7 8 9 10 \n",
      "11 12 13 14 15 \n"
     ]
    }
   ],
   "source": [
    "#4\n",
    "k=1\n",
    "for i in range(0,5):\n",
    "    for j in range(0,i+1):\n",
    "        print(k,end=' ')\n",
    "        k=k+1\n",
    "    print()"
   ]
  },
  {
   "cell_type": "code",
   "execution_count": 16,
   "metadata": {},
   "outputs": [
    {
     "name": "stdout",
     "output_type": "stream",
     "text": [
      "1 \n",
      "1 2 \n",
      "1 2 3 \n",
      "1 2 3 4 \n",
      "1 2 3 4 5 \n"
     ]
    }
   ],
   "source": [
    "#5\n",
    "for i in range(0,5):\n",
    "    k=1\n",
    "    for j in range(0,i+1):\n",
    "        print(k,end=' ')\n",
    "        k=k+1\n",
    "    print()"
   ]
  },
  {
   "cell_type": "code",
   "execution_count": 5,
   "metadata": {},
   "outputs": [
    {
     "name": "stdout",
     "output_type": "stream",
     "text": [
      "1 \n",
      "2 2 \n",
      "3 3 3 \n",
      "4 4 4 4 \n",
      "5 5 5 5 5 \n"
     ]
    }
   ],
   "source": [
    "#5\n",
    "for i in range(1,6):\n",
    "    for j in range(0,i):\n",
    "        print(i,end = \" \")\n",
    "    print()"
   ]
  },
  {
   "cell_type": "code",
   "execution_count": 21,
   "metadata": {},
   "outputs": [
    {
     "name": "stdout",
     "output_type": "stream",
     "text": [
      "* * * * * \n",
      "* * * * \n",
      "* * * \n",
      "* * \n",
      "* \n"
     ]
    }
   ],
   "source": [
    "#6\n",
    "\n",
    "for i in range(5,0,-1):\n",
    "    for j in range(0,i):\n",
    "        print('*',end=\" \")\n",
    "    print()"
   ]
  },
  {
   "cell_type": "code",
   "execution_count": 26,
   "metadata": {},
   "outputs": [
    {
     "name": "stdout",
     "output_type": "stream",
     "text": [
      "* * * * * \n",
      " * * * * \n",
      "  * * * \n",
      "   * * \n",
      "    * \n"
     ]
    }
   ],
   "source": [
    "#7\n",
    "t = 5\n",
    "for i in range(5,0,-1):\n",
    "    for k in range(t,i,-1):\n",
    "        print(end = ' ' )\n",
    "    for j in range(0,i):\n",
    "        print(\"*\",end = \" \")\n",
    "    print()"
   ]
  },
  {
   "cell_type": "code",
   "execution_count": 27,
   "metadata": {},
   "outputs": [
    {
     "name": "stdout",
     "output_type": "stream",
     "text": [
      "        * \n",
      "      * * \n",
      "    * * * \n",
      "  * * * * \n",
      "* * * * * \n"
     ]
    }
   ],
   "source": [
    "#8\n",
    "t = 8\n",
    "for i in range(0,5):\n",
    "    for k in range(0,t):\n",
    "        print(end = \" \")\n",
    "    t = t - 2\n",
    "    for j in range(0,i+1):\n",
    "        print(\"*\",end = \" \")\n",
    "    print()"
   ]
  },
  {
   "cell_type": "code",
   "execution_count": 1,
   "metadata": {},
   "outputs": [
    {
     "name": "stdout",
     "output_type": "stream",
     "text": [
      "*  *  *  *  *  \n",
      "  *  *  *  *  \n",
      "    *  *  *  \n",
      "      *  *  \n",
      "        *  \n"
     ]
    }
   ],
   "source": [
    "#9\n",
    "t = 1\n",
    "for i in range(5,0,-1):\n",
    "    for k in range(t,1,-1):\n",
    "        print(end = \" \")\n",
    "    t = t + 2\n",
    "    for j in range(0,i):\n",
    "        print(\"* \",end = \" \")\n",
    "    print()"
   ]
  },
  {
   "cell_type": "code",
   "execution_count": 4,
   "metadata": {},
   "outputs": [
    {
     "name": "stdout",
     "output_type": "stream",
     "text": [
      "Enter the number of lines : 10\n",
      "********\n",
      " *******\n",
      "  ******\n",
      "   *****\n",
      "    ****\n",
      "     ***\n",
      "      **\n",
      "       *\n",
      "        \n",
      "         \n"
     ]
    }
   ],
   "source": [
    "n = int(input(\"Enter the number of lines : \"))\n",
    "for i in range(1,n+1):\n",
    "    print(\" \"*(i-1),end = '')\n",
    "    print(\"*\"*(n-i-1),end = '')\n",
    "    print()"
   ]
  },
  {
   "cell_type": "code",
   "execution_count": 20,
   "metadata": {},
   "outputs": [
    {
     "name": "stdout",
     "output_type": "stream",
     "text": [
      "*****\n",
      "  ****\n",
      "    ***\n",
      "      **\n",
      "        *\n"
     ]
    }
   ],
   "source": [
    "t = 5\n",
    "for i in range(5,0,-1):\n",
    "    for k in range(t,i,-1):\n",
    "        print(\" \",end = '')\n",
    "    t = t + 1\n",
    "    for j in range(0,i):\n",
    "        print(\"*\",end = '')\n",
    "    print()"
   ]
  },
  {
   "cell_type": "code",
   "execution_count": 31,
   "metadata": {},
   "outputs": [
    {
     "name": "stdout",
     "output_type": "stream",
     "text": [
      "Enter number of lines : 10\n",
      "*    ******\n",
      "*    *\n",
      "*    *\n",
      "*    *\n",
      "*    *\n",
      "***********\n",
      "     *    *\n",
      "     *    *\n",
      "     *    *\n",
      "     *    *\n",
      "******    *\n"
     ]
    }
   ],
   "source": [
    "#SWASTIK\n",
    "n = int(input(\"Enter number of lines : \"))\n",
    "if not n%2 :\n",
    "    n = n +1\n",
    "for row in range(1,n+1):\n",
    "    if row == 1:\n",
    "        print(\"*\",end = '')\n",
    "        print(\" \"*(n//2-1),end = \"\")\n",
    "        print(\"*\"*(n//2+1))\n",
    "    elif row <= n//2:\n",
    "        print(\"*\",end = \"\")\n",
    "        print(\" \"*(n//2-1),end = '')\n",
    "        print(\"*\")\n",
    "    elif row == n//2+1:\n",
    "        print(\"*\"*n)\n",
    "    elif row <= n - 1:\n",
    "        print(\" \"*(n//2),end = \"\")\n",
    "        print(\"*\",end = \"\")\n",
    "        print(\" \"*(n//2-1),end = \"\")\n",
    "        print(\"*\")\n",
    "    else :\n",
    "        print(\"*\"*(n//2+1),end = \"\")\n",
    "        print(\" \"*(n//2-1),end = \"\")\n",
    "        print(\"*\")"
   ]
  },
  {
   "cell_type": "code",
   "execution_count": 34,
   "metadata": {},
   "outputs": [
    {
     "name": "stdout",
     "output_type": "stream",
     "text": [
      "Enter the number of lines : 5\n",
      "****\n",
      "***\n",
      "**\n",
      "*\n",
      "\n"
     ]
    }
   ],
   "source": [
    "n = int(input(\"Enter the number of lines : \"))\n",
    "for i in range(1,n+1):\n",
    "    print(\"*\"*(n-i),end = '')\n",
    "    print()"
   ]
  },
  {
   "cell_type": "code",
   "execution_count": 37,
   "metadata": {},
   "outputs": [
    {
     "name": "stdout",
     "output_type": "stream",
     "text": [
      "Enter the number of lines : 5\n",
      "\t     *\n",
      "\t    ***\n",
      "\t   *****\n",
      "\t  *******\n",
      "\t *********\n",
      "\t *********\n",
      "\t  *******\n",
      "\t   *****\n",
      "\t    ***\n",
      "\t     *\n"
     ]
    }
   ],
   "source": [
    "n = int(input(\"Enter the number of lines : \"))\n",
    "for i in range(1,n+1):\n",
    "    print(\"\\t\",end = '')\n",
    "    c = i*2 - 1\n",
    "    print(\" \"*(n-c//2),end = '')\n",
    "    print(\"*\"*c,end = '')\n",
    "    print()\n",
    "for i in range(1,n+1):\n",
    "    print(\"\\t\",end = '')\n",
    "    print(\" \"*(i),end = '')\n",
    "    print(\"*\"*(2*n-2*i+1),end = '')\n",
    "    print()"
   ]
  },
  {
   "cell_type": "code",
   "execution_count": 39,
   "metadata": {},
   "outputs": [
    {
     "name": "stdout",
     "output_type": "stream",
     "text": [
      "Enter the number of lines : 5\n",
      "\t *********\n",
      "\t  *******\n",
      "\t   *****\n",
      "\t    ***\n",
      "\t     *\n"
     ]
    }
   ],
   "source": [
    "n = int(input(\"Enter the number of lines : \"))\n",
    "for i in range(1,n+1):\n",
    "    print(\"\\t\",end = '')\n",
    "    print(\" \"*(i),end = '')\n",
    "    print(\"*\"*(2*n-2*i+1),end = '')\n",
    "    print()"
   ]
  },
  {
   "cell_type": "code",
   "execution_count": 41,
   "metadata": {},
   "outputs": [
    {
     "name": "stdout",
     "output_type": "stream",
     "text": [
      "Enter the number of lines : 5\n",
      "\t***** *****\n",
      "\t****   ****\n",
      "\t***     ***\n",
      "\t**       **\n",
      "\t*         *\n",
      "\t*         *\n",
      "\t**       **\n",
      "\t***     ***\n",
      "\t****   ****\n",
      "\t***** *****\n"
     ]
    }
   ],
   "source": [
    "n = int(input(\"Enter the number of lines : \"))\n",
    "for i in range(1,n+1):\n",
    "    print(\"\\t\",end = '')\n",
    "    c = i*2 - 1\n",
    "    print(\"*\"*(n-c//2),end = '')\n",
    "    print(\" \"*c,end = '')\n",
    "    print(\"*\"*(n-c//2),end = '')\n",
    "    print()\n",
    "for i in range(1,n+1):\n",
    "    print(\"\\t\",end = '')\n",
    "    print(\"*\"*(i),end = '')\n",
    "    print(\" \"*(2*n-2*i+1),end = '')\n",
    "    print(\"*\"*(i),end = '')\n",
    "    print()"
   ]
  },
  {
   "cell_type": "code",
   "execution_count": null,
   "metadata": {
    "collapsed": true
   },
   "outputs": [],
   "source": []
  }
 ],
 "metadata": {
  "kernelspec": {
   "display_name": "Python 3",
   "language": "python",
   "name": "python3"
  },
  "language_info": {
   "codemirror_mode": {
    "name": "ipython",
    "version": 3
   },
   "file_extension": ".py",
   "mimetype": "text/x-python",
   "name": "python",
   "nbconvert_exporter": "python",
   "pygments_lexer": "ipython3",
   "version": "3.6.3"
  }
 },
 "nbformat": 4,
 "nbformat_minor": 2
}
