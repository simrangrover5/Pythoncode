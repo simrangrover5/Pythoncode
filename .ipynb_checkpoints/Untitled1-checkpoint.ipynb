{
 "cells": [
  {
   "cell_type": "code",
   "execution_count": 2,
   "metadata": {},
   "outputs": [
    {
     "name": "stdout",
     "output_type": "stream",
     "text": [
      "Your guess(1,50): 2\n",
      "Be big! think bigger\n",
      "Your guess(1,50): 45\n",
      "Think low!\n",
      "Your guess(1,50): 35\n",
      "Be big! think bigger\n",
      "Your guess(1,50): 40\n",
      "Be big! think bigger\n",
      "Your guess(1,50): 42\n",
      "Computer guess is:  42\n",
      "You have won the game\n",
      "Enter yes to continue: n\n"
     ]
    }
   ],
   "source": [
    "from random import randrange\n",
    "while True:\n",
    "    c=1\n",
    "    com_guess=randrange(1,50)\n",
    "    while c<=5:\n",
    "        user_guess=int(input(\"Your guess(1,50): \"))\n",
    "        if user_guess<com_guess:\n",
    "            print(\"Be big! think bigger\")\n",
    "        elif user_guess>com_guess:\n",
    "            print(\"Think low!\")\n",
    "        else:\n",
    "            print(\"Computer guess is: \",com_guess)\n",
    "            print(\"You have won the game\")\n",
    "            break\n",
    "        if c==5:\n",
    "            print(\"Computer guess: \",com_guess)\n",
    "            print(\"You lose the game\")\n",
    "    ch=input(\"Enter yes to continue: \").strip().lower()\n",
    "    if ch=='y' or ch=='yes':\n",
    "        continue\n",
    "    else:\n",
    "        break"
   ]
  },
  {
   "cell_type": "code",
   "execution_count": null,
   "metadata": {
    "collapsed": true
   },
   "outputs": [],
   "source": []
  }
 ],
 "metadata": {
  "kernelspec": {
   "display_name": "Python 3",
   "language": "python",
   "name": "python3"
  },
  "language_info": {
   "codemirror_mode": {
    "name": "ipython",
    "version": 3
   },
   "file_extension": ".py",
   "mimetype": "text/x-python",
   "name": "python",
   "nbconvert_exporter": "python",
   "pygments_lexer": "ipython3",
   "version": "3.6.3"
  }
 },
 "nbformat": 4,
 "nbformat_minor": 2
}
