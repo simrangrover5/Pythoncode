{
 "cells": [
  {
   "cell_type": "code",
   "execution_count": 1,
   "metadata": {
    "collapsed": true
   },
   "outputs": [],
   "source": [
    "def convert_dict(p,q,r,s): #('name','python')('name','simran')\n",
    "    t = [p,q,r,s]\n",
    "    d = dict(t)\n",
    "    return d"
   ]
  },
  {
   "cell_type": "code",
   "execution_count": 13,
   "metadata": {},
   "outputs": [
    {
     "name": "stdout",
     "output_type": "stream",
     "text": [
      "give input as key = value\n",
      "\n",
      "Enter first input : h=h\n",
      "Enter second input : j=j\n",
      "Enter third input : k=k\n",
      "Enter fourth input : l=l\n",
      "None\n"
     ]
    }
   ],
   "source": [
    "print(\"give input as key = value\\n\")\n",
    "e1 = input(\"Enter first input : \").split('=')\n",
    "e2 = input(\"Enter second input : \").split('=')\n",
    "e3 = input(\"Enter third input : \").split('=')\n",
    "e4 = input(\"Enter fourth input : \").split('=')\n",
    "s = convert_dict(e1,e2,e3,e4)\n",
    "print(s)"
   ]
  },
  {
   "cell_type": "code",
   "execution_count": 18,
   "metadata": {
    "collapsed": true
   },
   "outputs": [],
   "source": [
    "def info(**mydict):\n",
    "    for key,value in mydict.items():\n",
    "        print(\"{} = {}\".format(key,value))"
   ]
  },
  {
   "cell_type": "code",
   "execution_count": 19,
   "metadata": {},
   "outputs": [
    {
     "name": "stdout",
     "output_type": "stream",
     "text": [
      "hi = hello\n",
      "bye = bye\n"
     ]
    }
   ],
   "source": [
    "info(hi='hello',bye='bye')"
   ]
  },
  {
   "cell_type": "code",
   "execution_count": 21,
   "metadata": {},
   "outputs": [
    {
     "name": "stdout",
     "output_type": "stream",
     "text": [
      "user = ['Simran', 'Rahul', 'Ravi']\n",
      "accno = [1001, 1002, 1003]\n",
      "password = ['1234', '5678', '9876']\n",
      "bal = [1000.45, 5000.0, 5432.65]\n"
     ]
    }
   ],
   "source": [
    "bank = {\n",
    "       'user' : ['Simran' , 'Rahul' , 'Ravi' ],\n",
    "        'accno' : [1001 , 1002 , 1003],\n",
    "        'password' : ['1234' , '5678' , '9876'],\n",
    "        'bal' : [1000.45 , 5000.00 , 5432.65] }\n",
    "info(**bank)"
   ]
  },
  {
   "cell_type": "code",
   "execution_count": 23,
   "metadata": {},
   "outputs": [
    {
     "name": "stdout",
     "output_type": "stream",
     "text": [
      "1 2 3 4 5\n",
      "<class 'list'>\n",
      "[1, 2, 3, 4, 5]\n"
     ]
    }
   ],
   "source": [
    "s = list(map(int,input().split()))\n",
    "print(type(s))\n",
    "print(s)"
   ]
  },
  {
   "cell_type": "code",
   "execution_count": 24,
   "metadata": {},
   "outputs": [
    {
     "name": "stdout",
     "output_type": "stream",
     "text": [
      "1 2 3 4 5 \n",
      "['1', '2', '3', '4', '5']\n"
     ]
    }
   ],
   "source": [
    "s = input().split()\n",
    "s = list(s)\n",
    "print(s)"
   ]
  },
  {
   "cell_type": "code",
   "execution_count": 35,
   "metadata": {},
   "outputs": [
    {
     "name": "stdout",
     "output_type": "stream",
     "text": [
      "1 2 3 4 5 \n",
      "<class 'map'>\n",
      "1 2 3 4 5\n"
     ]
    }
   ],
   "source": [
    "s = map(int,input().split())\n",
    "print(type(s))\n",
    "print(*s)"
   ]
  },
  {
   "cell_type": "code",
   "execution_count": 34,
   "metadata": {},
   "outputs": [
    {
     "ename": "StopIteration",
     "evalue": "",
     "output_type": "error",
     "traceback": [
      "\u001b[1;31m---------------------------------------------------------------------------\u001b[0m",
      "\u001b[1;31mStopIteration\u001b[0m                             Traceback (most recent call last)",
      "\u001b[1;32m<ipython-input-34-fb1f795bf5c3>\u001b[0m in \u001b[0;36m<module>\u001b[1;34m()\u001b[0m\n\u001b[1;32m----> 1\u001b[1;33m \u001b[0mprint\u001b[0m\u001b[1;33m(\u001b[0m\u001b[0mnext\u001b[0m\u001b[1;33m(\u001b[0m\u001b[0ms\u001b[0m\u001b[1;33m)\u001b[0m\u001b[1;33m)\u001b[0m\u001b[1;33m\u001b[0m\u001b[0m\n\u001b[0m",
      "\u001b[1;31mStopIteration\u001b[0m: "
     ]
    }
   ],
   "source": [
    "print(next(s))"
   ]
  },
  {
   "cell_type": "code",
   "execution_count": 38,
   "metadata": {},
   "outputs": [
    {
     "name": "stdout",
     "output_type": "stream",
     "text": [
      "1 2 3 4 5 \n",
      "1 2 3 4 5 \n",
      "[2, 4, 6, 8, 10]\n"
     ]
    }
   ],
   "source": [
    "s = list(map(int,input().split()))\n",
    "t = list(map(int,input().split()))\n",
    "y = list(map(lambda s,t : s+t,s,t))\n",
    "print(y)"
   ]
  },
  {
   "cell_type": "code",
   "execution_count": 39,
   "metadata": {},
   "outputs": [
    {
     "name": "stdout",
     "output_type": "stream",
     "text": [
      "2 3 4 5 6 7 8 \n",
      "True False True False True False True\n"
     ]
    }
   ],
   "source": [
    "s = list(map(int,input().split()))\n",
    "y = map(lambda s: True if s%2 == 0 else False,s) #or list(map(lambda s : True if s % 2 == 0 else False))\n",
    "print(*y)"
   ]
  },
  {
   "cell_type": "code",
   "execution_count": 40,
   "metadata": {},
   "outputs": [
    {
     "name": "stdout",
     "output_type": "stream",
     "text": [
      "2 3 4 5 6 7 \n",
      "2 4 6\n"
     ]
    }
   ],
   "source": [
    "s = list(map(int,input().split()))\n",
    "y = filter(lambda s : False if s % 2 else True ,s) #or we can use list()\n",
    "print(*y)"
   ]
  },
  {
   "cell_type": "code",
   "execution_count": 10,
   "metadata": {
    "collapsed": true
   },
   "outputs": [],
   "source": [
    "def count_digits(n):\n",
    "    c = 0\n",
    "    while n>0 :\n",
    "        n = n//10\n",
    "        c = c + 1\n",
    "    return c "
   ]
  },
  {
   "cell_type": "code",
   "execution_count": 11,
   "metadata": {},
   "outputs": [
    {
     "name": "stdout",
     "output_type": "stream",
     "text": [
      "Enter any number :1234\n",
      "4\n"
     ]
    }
   ],
   "source": [
    "n = count_digits(int(input(\"Enter any number :\")))\n",
    "print(n)"
   ]
  },
  {
   "cell_type": "code",
   "execution_count": 19,
   "metadata": {
    "collapsed": true
   },
   "outputs": [],
   "source": [
    "def check_armstrong(n):\n",
    "    p = count_digits(n)\n",
    "    num = n\n",
    "    s = 0\n",
    "    while n>0 :\n",
    "        r = n%10\n",
    "        s = s + r**p\n",
    "        n = n // 10\n",
    "    if s == num:\n",
    "        return True\n",
    "    else :\n",
    "        return False "
   ]
  },
  {
   "cell_type": "code",
   "execution_count": 22,
   "metadata": {
    "collapsed": true
   },
   "outputs": [],
   "source": [
    "def armstrong():\n",
    "    n = int(input(\"Enter any number : \"))\n",
    "    r = check_armstrong(n)\n",
    "    if r == True:\n",
    "        print(\"An Armstrong\")\n",
    "    else :\n",
    "        print(\"Not an Armstrong\")\n",
    "    if (input(\"Do you want to continue : \")):\n",
    "        armstrong()"
   ]
  },
  {
   "cell_type": "code",
   "execution_count": 23,
   "metadata": {},
   "outputs": [
    {
     "name": "stdout",
     "output_type": "stream",
     "text": [
      "Enter any number : 1\n",
      "An Armstrong\n",
      "Do you want to continue : 567\n",
      "Enter any number : 567\n",
      "Not an Armstrong\n",
      "Do you want to continue : \n"
     ]
    }
   ],
   "source": [
    "armstrong()"
   ]
  },
  {
   "cell_type": "code",
   "execution_count": 24,
   "metadata": {},
   "outputs": [
    {
     "name": "stdout",
     "output_type": "stream",
     "text": [
      "1 2 3 4 5 6 77 88 99 361\n",
      "True True True True True True False False False False\n"
     ]
    }
   ],
   "source": [
    "x = map(int,input().split())\n",
    "y = map(check_armstrong,x)\n",
    "print(*y)"
   ]
  },
  {
   "cell_type": "code",
   "execution_count": 25,
   "metadata": {},
   "outputs": [
    {
     "name": "stdout",
     "output_type": "stream",
     "text": [
      "Enter starting point : 1\n",
      "Enter ending point : 10\n",
      "range(1, 10)\n"
     ]
    }
   ],
   "source": [
    "s = range(int(input(\"Enter starting point : \")),int(input(\"Enter ending point : \")))\n",
    "print(s)"
   ]
  },
  {
   "cell_type": "code",
   "execution_count": 27,
   "metadata": {},
   "outputs": [
    {
     "name": "stdout",
     "output_type": "stream",
     "text": [
      "50005000\n"
     ]
    }
   ],
   "source": [
    "s = list(range(1,10001))\n",
    "from functools import reduce\n",
    "x = reduce(lambda x,y: x+y,s)\n",
    "print(x)"
   ]
  },
  {
   "cell_type": "code",
   "execution_count": null,
   "metadata": {
    "collapsed": true
   },
   "outputs": [],
   "source": []
  }
 ],
 "metadata": {
  "kernelspec": {
   "display_name": "Python 3",
   "language": "python",
   "name": "python3"
  }
 },
 "nbformat": 4,
 "nbformat_minor": 2
}
