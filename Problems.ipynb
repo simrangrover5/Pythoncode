{
 "cells": [
  {
   "cell_type": "code",
   "execution_count": 3,
   "metadata": {},
   "outputs": [
    {
     "name": "stdout",
     "output_type": "stream",
     "text": [
      "enter any number:12\n",
      "Number is not Prime\n"
     ]
    }
   ],
   "source": [
    "#prime number\n",
    "n=int(input(\"enter any number:\"))\n",
    "j=2\n",
    "if n<=1:\n",
    "    print(\"Invalid number!\")\n",
    "if n==2:\n",
    "    print(\"The number is prime\")\n",
    "while j<n:\n",
    "    if n%j==0:\n",
    "        print(\"Number is not Prime\")\n",
    "        break\n",
    "    elif j==n-1:\n",
    "        print(\"Prime\")\n",
    "    j=j+1\n"
   ]
  },
  {
   "cell_type": "code",
   "execution_count": 5,
   "metadata": {},
   "outputs": [
    {
     "name": "stdout",
     "output_type": "stream",
     "text": [
      "enter any number:12345678910\n",
      "Number is not Prime\n"
     ]
    }
   ],
   "source": [
    "#more efficient program for large numbers \n",
    "n=int(input(\"enter any number:\"))\n",
    "j=2\n",
    "if n<=1:\n",
    "    print(\"Invalid number!\")\n",
    "if n==2:\n",
    "    print(\"The number is prime\")\n",
    "while j<n//2+1:\n",
    "    if n%j==0:\n",
    "        print(\"Number is not Prime\")\n",
    "        break\n",
    "    elif j==n//2+1:\n",
    "        print(\"Prime\")\n",
    "    j=j+1\n",
    "\n"
   ]
  },
  {
   "cell_type": "code",
   "execution_count": null,
   "metadata": {
    "collapsed": true
   },
   "outputs": [],
   "source": [
    "#more efficient program than earlier require comparisons only till the squareroot of the number\n",
    "n=int(input(\"enter any number:\"))\n",
    "j=2\n",
    "import math\n",
    "sq=math.sqrt(n)\n",
    "if n<=1:\n",
    "    print(\"Invalid number!\")\n",
    "if n==2:\n",
    "    print(\"The number is prime\")\n",
    "while j<=sq:\n",
    "    if n%j==0:\n",
    "        print(\"Number is not Prime\")\n",
    "        break\n",
    "    elif j==sq:\n",
    "        print(\"Prime\")\n",
    "    j=j+1\n"
   ]
  },
  {
   "cell_type": "code",
   "execution_count": 1,
   "metadata": {},
   "outputs": [
    {
     "name": "stdout",
     "output_type": "stream",
     "text": [
      "enter any number:4\n",
      "Number is not Prime\n"
     ]
    }
   ],
   "source": [
    "#more efficient program than earlier require comparisons only till the squareroot of the number\n",
    "n=int(input(\"enter any number:\"))\n",
    "j=2\n",
    "import math\n",
    "sq=math.sqrt(n)\n",
    "if n<=1:\n",
    "    print(\"Invalid number!\")\n",
    "if n==2:\n",
    "    print(\"The number is prime\")\n",
    "while j<=sq:\n",
    "    if n%j==0:\n",
    "        print(\"Number is not Prime\")\n",
    "        break\n",
    "    elif j==sq:\n",
    "        print(\"Prime\")\n",
    "    j=j+1\n"
   ]
  },
  {
   "cell_type": "code",
   "execution_count": 3,
   "metadata": {},
   "outputs": [
    {
     "name": "stdout",
     "output_type": "stream",
     "text": [
      "enter any number:4\n",
      "Number is not Prime\n"
     ]
    }
   ],
   "source": [
    "n=int(input(\"enter any number:\"))\n",
    "import math\n",
    "sq=math.sqrt(n)\n",
    "if n<=1:\n",
    "    print(\"Invalid number!\")\n",
    "if n==2:\n",
    "    print(\"The number is prime\")\n",
    "for j in range(2,n-1):\n",
    "    if n%j==0:\n",
    "        print(\"Number is not Prime\")\n",
    "        break\n",
    "    elif j==sq:\n",
    "        print(\"Prime\")\n",
    "    j=j+1\n"
   ]
  },
  {
   "cell_type": "code",
   "execution_count": 4,
   "metadata": {},
   "outputs": [
    {
     "name": "stdout",
     "output_type": "stream",
     "text": [
      "Enter first number:1\n",
      "Enter second number:2\n",
      "Enter the number of digits:5\n",
      "1\n",
      "2\n",
      "3\n",
      "5\n",
      "8\n"
     ]
    }
   ],
   "source": [
    "#fibonacci series using for loop\n",
    "a=int(input(\"Enter first number:\"))\n",
    "b=int(input(\"Enter second number:\"))\n",
    "n=int(input(\"Enter the number of digits:\"))\n",
    "print(a)\n",
    "print(b)\n",
    "for x in range(0,n-2):\n",
    "    a,b=b,a+b\n",
    "    print(b)\n"
   ]
  },
  {
   "cell_type": "code",
   "execution_count": null,
   "metadata": {
    "collapsed": true
   },
   "outputs": [],
   "source": []
  }
 ],
 "metadata": {
  "kernelspec": {
   "display_name": "Python 3",
   "language": "python",
   "name": "python3"
  },
  "language_info": {
   "codemirror_mode": {
    "name": "ipython",
    "version": 3
   },
   "file_extension": ".py",
   "mimetype": "text/x-python",
   "name": "python",
   "nbconvert_exporter": "python",
   "pygments_lexer": "ipython3",
   "version": "3.6.3"
  }
 },
 "nbformat": 4,
 "nbformat_minor": 2
}
