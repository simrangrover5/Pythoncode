{
 "cells": [
  {
   "cell_type": "code",
   "execution_count": 1,
   "metadata": {},
   "outputs": [
    {
     "name": "stdout",
     "output_type": "stream",
     "text": [
      "Enter the first number : 4\n",
      "Enter the second number : 5\n",
      "9\n"
     ]
    }
   ],
   "source": [
    "#1. add two numbers\n",
    "x = int(input(\"Enter the first number : \"))\n",
    "y = int(input(\"Enter the second number : \"))\n",
    "sum = x + y\n",
    "print(sum)"
   ]
  },
  {
   "cell_type": "code",
   "execution_count": 2,
   "metadata": {},
   "outputs": [
    {
     "name": "stdout",
     "output_type": "stream",
     "text": [
      "Enter the any number : 9\n",
      "81\n"
     ]
    }
   ],
   "source": [
    "#2. Square root\n",
    "x = int(input(\"Enter the any number : \"))\n",
    "print(x*x)"
   ]
  },
  {
   "cell_type": "code",
   "execution_count": 6,
   "metadata": {},
   "outputs": [
    {
     "name": "stdout",
     "output_type": "stream",
     "text": [
      "Enter the Base : 6 \n",
      "Enter the height : 7\n",
      "21.0\n"
     ]
    }
   ],
   "source": [
    "#3. Area of triange\n",
    "b = int(input(\"Enter the Base : \"))\n",
    "h = int(input(\"Enter the height : \"))\n",
    "a = (1/2)*b*h\n",
    "print(a)"
   ]
  },
  {
   "cell_type": "code",
   "execution_count": null,
   "metadata": {
    "collapsed": true
   },
   "outputs": [],
   "source": [
    "#4. Quadratic Equation\n",
    "x  = int(input(\"Enter any value : \"))\n",
    "y = int(input(\"Enter any value : \"))\n",
    "\n"
   ]
  },
  {
   "cell_type": "code",
   "execution_count": 7,
   "metadata": {},
   "outputs": [
    {
     "name": "stdout",
     "output_type": "stream",
     "text": [
      "Enter any value : 3\n",
      "Enter another value : 4\n",
      "Value of x and y after swapping are : 4 , 3\n"
     ]
    }
   ],
   "source": [
    "#5. Swap two variables\n",
    "x = int(input(\"Enter any value : \"))\n",
    "y = int(input(\"Enter another value : \"))\n",
    "x,y = y,x\n",
    "print(\"Value of x and y after swapping are : {} , {}\".format(x,y))"
   ]
  },
  {
   "cell_type": "code",
   "execution_count": 8,
   "metadata": {},
   "outputs": [
    {
     "name": "stdout",
     "output_type": "stream",
     "text": [
      "Enter value in kilometers : 2\n",
      "Value in meters is : 2000.0 meters \n"
     ]
    }
   ],
   "source": [
    "#6. Convert kilometers to miles \n",
    "x = float(input(\"Enter value in kilometers : \"))\n",
    "y = x * 1000\n",
    "print(\"Value in meters is : {} meters \".format(y))"
   ]
  },
  {
   "cell_type": "code",
   "execution_count": 11,
   "metadata": {},
   "outputs": [
    {
     "name": "stdout",
     "output_type": "stream",
     "text": [
      "Enter degree in celcius : 20\n",
      "Degree in fahrenheit is : 68.0F\n"
     ]
    }
   ],
   "source": [
    "#7. Celsius to fahrenheit\n",
    "c = float(input(\"Enter degree in celcius : \"))\n",
    "f = c * (9/5) + 32\n",
    "print(\"Degree in fahrenheit is : {}F\".format(f))"
   ]
  },
  {
   "cell_type": "code",
   "execution_count": 15,
   "metadata": {},
   "outputs": [
    {
     "name": "stdout",
     "output_type": "stream",
     "text": [
      "Enter any year : 2016\n",
      "2016 is a leap year\n"
     ]
    }
   ],
   "source": [
    "#8. Check leap year\n",
    "y = int(input(\"Enter any year : \"))\n",
    "if (y%4==0) or (y%100==0) or (y%400==0):\n",
    "    print(\"{} is a leap year\".format(y))\n",
    "else:\n",
    "    print(\"{} is not leap year\".format(y))"
   ]
  },
  {
   "cell_type": "code",
   "execution_count": 16,
   "metadata": {},
   "outputs": [
    {
     "name": "stdout",
     "output_type": "stream",
     "text": [
      "Enter the first number : 10\n",
      "Enter the second number : 12\n",
      "Enter the third number : 16\n",
      "16 is greatest number\n"
     ]
    }
   ],
   "source": [
    "#9.Largest number among three\n",
    "a = int(input(\"Enter the first number : \"))\n",
    "b = int(input(\"Enter the second number : \"))\n",
    "c = int(input(\"Enter the third number : \"))\n",
    "if (a > b) and (a > c):\n",
    "    print(\"{} is greatest number\".format(a))\n",
    "elif (b > c):\n",
    "    print(\"{} is greatest number\".format(b))\n",
    "else:\n",
    "    print(\"{} is greatest number\".format(c))"
   ]
  },
  {
   "cell_type": "code",
   "execution_count": 19,
   "metadata": {},
   "outputs": [
    {
     "name": "stdout",
     "output_type": "stream",
     "text": [
      "Enter any number whose multiplication is to be found : 7\n",
      "7 * 1 = 7\n",
      "7 * 2 = 14\n",
      "7 * 3 = 21\n",
      "7 * 4 = 28\n",
      "7 * 5 = 35\n",
      "7 * 6 = 42\n",
      "7 * 7 = 49\n",
      "7 * 8 = 56\n",
      "7 * 9 = 63\n",
      "7 * 10 = 70\n"
     ]
    }
   ],
   "source": [
    "#10.Multiplication Table\n",
    "x = int(input(\"Enter any number whose multiplication is to be found : \"))\n",
    "for var in range(1,11):\n",
    "    print(x,\"*\",var,\"=\",x*var) "
   ]
  },
  {
   "cell_type": "code",
   "execution_count": null,
   "metadata": {
    "collapsed": true
   },
   "outputs": [],
   "source": [
    "#11. Armstrong number in given interval\n",
    "s = 0\n",
    "x = int(input(\"Enter the starting point : \"))\n",
    "y = int(input(\"enter the ending point : \"))\n",
    "for var in range(x,y):\n",
    "    count = len(str(var))\n",
    "    while var > 0:\n",
    "        r = var%10\n",
    "        s = r**count\n",
    "        var = var // 10\n",
    "    if s == var:\n",
    "        print(\"{} is armstrong\".format(var))\n",
    "        "
   ]
  },
  {
   "cell_type": "code",
   "execution_count": 1,
   "metadata": {},
   "outputs": [
    {
     "name": "stdout",
     "output_type": "stream",
     "text": [
      "Enter the number of terms till which you want the sum : 10\n",
      "55\n"
     ]
    }
   ],
   "source": [
    "#12. Sum of natural number\n",
    "x = int(input(\"Enter the number of terms till which you want the sum : \"))\n",
    "n = 1\n",
    "s = 0\n",
    "while x > 0:\n",
    "    s = s + n\n",
    "    n = n + 1\n",
    "    x = x - 1\n",
    "print(s)"
   ]
  },
  {
   "cell_type": "code",
   "execution_count": 3,
   "metadata": {},
   "outputs": [
    {
     "name": "stdout",
     "output_type": "stream",
     "text": [
      "Enter the number of terms : 5\n",
      "0\n",
      "1\n",
      "1\n",
      "2\n",
      "3\n"
     ]
    }
   ],
   "source": [
    "#13 fibonacci serquence using recursion\n",
    "def fibo(n):\n",
    "    if n <= 1:\n",
    "        return n\n",
    "    else :\n",
    "        return(fibo(n-1) + fibo(n-2))\n",
    "n = int(input(\"Enter the number of terms : \"))\n",
    "for var in range(0,n):\n",
    "    print(fibo(var))"
   ]
  },
  {
   "cell_type": "code",
   "execution_count": 4,
   "metadata": {},
   "outputs": [
    {
     "name": "stdout",
     "output_type": "stream",
     "text": [
      "Enter the number : 5\n",
      "120\n"
     ]
    }
   ],
   "source": [
    "#14 factorial using recursion\n",
    "def fact(n):\n",
    "    if n == 1:\n",
    "        return 1\n",
    "    else:\n",
    "        return(n*fact(n-1))\n",
    "n = int(input(\"Enter the number : \"))\n",
    "print(fact(n))"
   ]
  },
  {
   "cell_type": "code",
   "execution_count": 8,
   "metadata": {},
   "outputs": [
    {
     "name": "stdout",
     "output_type": "stream",
     "text": [
      "Enter the number of terms : 5\n",
      "15\n"
     ]
    }
   ],
   "source": [
    "#15 Sum of natural number using recursion\n",
    "def isum(n):\n",
    "    if n <= 1:\n",
    "        return n\n",
    "    else :\n",
    "        return(n + isum(n-1))\n",
    "n = int(input(\"Enter the number of terms : \"))\n",
    "print(isum(n))"
   ]
  },
  {
   "cell_type": "code",
   "execution_count": null,
   "metadata": {
    "collapsed": true
   },
   "outputs": [],
   "source": []
  }
 ],
 "metadata": {
  "kernelspec": {
   "display_name": "Python 3",
   "language": "python",
   "name": "python3"
  },
  "language_info": {
   "codemirror_mode": {
    "name": "ipython",
    "version": 3
   },
   "file_extension": ".py",
   "mimetype": "text/x-python",
   "name": "python",
   "nbconvert_exporter": "python",
   "pygments_lexer": "ipython3",
   "version": "3.6.3"
  }
 },
 "nbformat": 4,
 "nbformat_minor": 2
}
